{
 "cells": [
  {
   "cell_type": "code",
   "execution_count": 164,
   "metadata": {},
   "outputs": [],
   "source": [
    "import math\n",
    "\n",
    "def verifica_primo (numero):\n",
    "    #https://programmerclick.com/article/8571782959/\n",
    "\n",
    "    #Esta Funcion devuelve Verdadero y Falso si el numero evaluado es primo\n",
    "    if numero<=1: \n",
    "        return False\n",
    "    else:\n",
    "        if (numero % 2 ==0)  : # Evaluamos si es par para descartar que es Primo\n",
    "            print(\"Numero descartado es par\")\n",
    "            return False\n",
    "        else:\n",
    "            divisores=list(range(3,int((math.sqrt(numero)))+1,2)) \n",
    "\n",
    "            #divisores_filtro=list(filter(lambda x: x % 5 !=0,divisores)) ## Probando quitando dividores x 5 \n",
    "            # Hacemos lista de divisores a partir de 3 por que ya descartamos los pares y hasta la raiz del numero evaluado cada 2 numeros \n",
    "            # osea haremos la iteracion de solo impares \n",
    "            \n",
    "            print(divisores)\n",
    "            primo=True\n",
    "            for div in divisores: \n",
    "                if  (numero % div==0):\n",
    "                    primo=False\n",
    "                    break\n",
    "    return primo\n",
    "\n",
    "\n",
    "\n",
    "def extraelista(lista):\n",
    "\n",
    "    lista_primos = []\n",
    "    for elemento in lista:\n",
    "        if verifica_primo(int(elemento)):\n",
    "            lista_primos.append(elemento)\n",
    "    return lista_primos  \n",
    "\n",
    "\n",
    "\n",
    "def valor_modal(lista):\n",
    "    lista_unicos = []\n",
    "    lista_repeticiones = []\n",
    "    if len(lista) == 0:\n",
    "        return None\n",
    "    for elemento in lista:\n",
    "        if elemento in lista_unicos:\n",
    "            i = lista_unicos.index(elemento)\n",
    "            lista_repeticiones[i] += 1\n",
    "        else:\n",
    "            lista_unicos.append(elemento)\n",
    "            lista_repeticiones.append(1)\n",
    "    moda = lista_unicos[0]\n",
    "    maximo = lista_repeticiones[0]\n",
    "    for i, elemento in enumerate(lista_unicos):\n",
    "        if lista_repeticiones[i] > maximo:\n",
    "            moda = lista_unicos[i]\n",
    "            maximo = lista_repeticiones[i]\n",
    "    return moda, maximo  \n",
    "\n"
   ]
  },
  {
   "cell_type": "code",
   "execution_count": 165,
   "metadata": {},
   "outputs": [
    {
     "name": "stdout",
     "output_type": "stream",
     "text": [
      "[3, 5, 7, 9, 11, 13, 15, 17, 19, 21, 23, 25, 27, 29, 31, 33, 35, 37, 39, 41, 43, 45, 47, 49, 51, 53, 55, 57, 59, 61, 63, 65, 67, 69, 71, 73, 75, 77, 79, 81, 83, 85, 87, 89, 91, 93, 95, 97, 99]\n",
      "True\n"
     ]
    }
   ],
   "source": [
    "print(verifica_primo(10079))\n"
   ]
  },
  {
   "cell_type": "code",
   "execution_count": 10,
   "metadata": {},
   "outputs": [
    {
     "data": {
      "text/plain": [
       "[2, 3, 5, 7, 11, 13, 17, 19]"
      ]
     },
     "execution_count": 10,
     "metadata": {},
     "output_type": "execute_result"
    }
   ],
   "source": [
    "lis_completa = [1,2,3,4,5,6,7,8,9,10,11,12,13,14,15,16,17,18,19,20]\n",
    "list_primos=extraelista(lis_completa)\n",
    "list_primos\n"
   ]
  },
  {
   "cell_type": "code",
   "execution_count": 11,
   "metadata": {},
   "outputs": [
    {
     "name": "stdout",
     "output_type": "stream",
     "text": [
      "El valor modal es 5 y se repite 3 veces.\n"
     ]
    }
   ],
   "source": [
    "lis = [1,1,5,6,8,10,22,5,6,4,11,9,5]\n",
    "moda, repite = valor_modal(lis)\n",
    "print('El valor modal es', moda, 'y se repite', repite, 'veces.')"
   ]
  },
  {
   "cell_type": "code",
   "execution_count": 20,
   "metadata": {},
   "outputs": [
    {
     "name": "stdout",
     "output_type": "stream",
     "text": [
      "1\n",
      "3\n",
      "5\n",
      "7\n",
      "9\n"
     ]
    }
   ],
   "source": [
    "my_list = [1,2,3,4,5,6,7,8,9,10]\n",
    "for x in my_list[0::2]:\n",
    "    print (x)"
   ]
  },
  {
   "cell_type": "code",
   "execution_count": 1,
   "metadata": {},
   "outputs": [
    {
     "name": "stdout",
     "output_type": "stream",
     "text": [
      "[2, 3, 5, 7, 11, 13, 17, 19, 23, 29, 31, 37, 41, 43, 47, 53, 59, 61, 67, 71, 73, 79, 83, 89, 97]\n",
      "(100, 100, False)\n"
     ]
    }
   ],
   "source": [
    "\n",
    "import math\n",
    "\n",
    "def verifica_primo2 (numero):\n",
    "    #https://programmerclick.com/article/8571782959/\n",
    "\n",
    "    #Esta Funcion devuelve Verdadero y Falso si el numero evaluado es primo\n",
    "    if numero<=1: \n",
    "        return False\n",
    "    else:\n",
    "        if (numero % 2 ==0) : # Evaluamos si es par para descartar que es Primo\n",
    "            print(\"Numero descartado es par\")\n",
    "            return False\n",
    "            \n",
    "        else:\n",
    "            mitop=int((math.sqrt(numero))) # Asignamos como top de rango la raiz cuadrada del valor evaluado\n",
    "            prime = []\n",
    "            lista_div=[]\n",
    "\n",
    "            for i in range(mitop+1):  # para metodos range rango inicial incluyente rango final excluyente por eso el +1\n",
    "                prime.append(True)\n",
    "\n",
    "            for i in range(2,mitop+1): # para metodos range  rango inicial incluyente rango final excluyente por eso el +1\n",
    "                if prime[i]:\n",
    "                    lista_div.append(i)\n",
    "                    j = i+i\n",
    "                    while j<= mitop:\n",
    "                        prime[j] = False\n",
    "                        j += i\n",
    "            \n",
    "            #La lista de divisores a trabajar sera los numeros primos menores o iguales al top de rango\n",
    "\n",
    "            print(lista_div)\n",
    "            primo=True\n",
    "            for div in lista_div: \n",
    "                if  (numero % div==0):\n",
    "                    primo=False\n",
    "                    break\n",
    "    return mitop,i,primo\n",
    "\n",
    "\n",
    "\n",
    "print(verifica_primo2(10001))\n",
    "\n"
   ]
  }
 ],
 "metadata": {
  "interpreter": {
   "hash": "7026e5986cb8693f28ea8c661b515da0f0f0e67aedf01a058bf2f0793cb28804"
  },
  "kernelspec": {
   "display_name": "Python 3.9.7 ('base')",
   "language": "python",
   "name": "python3"
  },
  "language_info": {
   "codemirror_mode": {
    "name": "ipython",
    "version": 3
   },
   "file_extension": ".py",
   "mimetype": "text/x-python",
   "name": "python",
   "nbconvert_exporter": "python",
   "pygments_lexer": "ipython3",
   "version": "3.9.7"
  },
  "orig_nbformat": 4
 },
 "nbformat": 4,
 "nbformat_minor": 2
}
