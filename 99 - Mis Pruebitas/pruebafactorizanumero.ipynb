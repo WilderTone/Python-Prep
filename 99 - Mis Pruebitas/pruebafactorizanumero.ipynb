{
 "cells": [
  {
   "cell_type": "code",
   "execution_count": 80,
   "metadata": {},
   "outputs": [],
   "source": [
    "import math\n",
    "\n",
    "def factoriza (numero):\n",
    "    \n",
    "    #Esta Funcion devuelve la factorizacion de un nummero natural\n",
    "    if numero<=1: \n",
    "        return False\n",
    "    else:\n",
    "           # mitop=int((math.sqrt(numero))) # Asignamos como top de rango la raiz cuadrada del valor evaluado\n",
    "            mitop=int(numero/2)\n",
    "            prime = []\n",
    "            lista_div=[]\n",
    "\n",
    "            for i in range(mitop+1):  # para metodos range rango inicial incluyente rango final excluyente por eso el +1\n",
    "                prime.append(True)\n",
    "                \n",
    "            for i in range(2,mitop+1): # para metodos range  rango inicial incluyente rango final excluyente por eso el +1\n",
    "                if prime[i]:\n",
    "                    lista_div.append(i)\n",
    "                    j = i+i\n",
    "                    while j<= mitop:\n",
    "                        prime[j] = False\n",
    "                        j += i\n",
    "                        \n",
    "            lista_div.append(numero)\n",
    "            #La lista de divisores a trabajar sera los numeros primos menores o iguales al top de rango mas el mismo numero\n",
    "\n",
    "    lista_factores=[]\n",
    "    lista_exponentes=[]\n",
    "    #print(lista_div)\n",
    "\n",
    "    for i in lista_div: ## recorre la lista de divisores\n",
    "        j=0\n",
    "        while (numero % i ==0): #recorrer mientras siga siendo resto 0 la division entre el numero y el divisor i actual\n",
    "            numero=numero/i #Descompone el numero para hacer la siguiente evaluacion\n",
    "            if (j==0): #si es la primera pasada con resto 0 ya graba el factor\n",
    "                lista_factores.append(i)\n",
    "            j+=1 # contador de cuantas veces se logro resto 0 con el divisor de la iteracion\n",
    "            \n",
    "        if (j>0): # si el contador de divisiones con resto 0 es mayor a 0 entonces graba el numero de veces \n",
    "            lista_exponentes.append(j)\n",
    "\n",
    "    cadenafactores=\"\"\n",
    "    control=0\n",
    "    colita=\"\"\n",
    "    for m in range(0,len(lista_factores)):\n",
    "        control+=1\n",
    "        if control==len(lista_factores):\n",
    "            colita=\"\"\n",
    "        else:\n",
    "            colita=\" x \"\n",
    "\n",
    "        cadenafactores = cadenafactores+str(lista_factores[m])+\"^\"+str(lista_exponentes[m])+colita\n",
    "\n",
    "    return [lista_factores, lista_exponentes,cadenafactores]   \n"
   ]
  },
  {
   "cell_type": "code",
   "execution_count": 81,
   "metadata": {},
   "outputs": [
    {
     "name": "stdout",
     "output_type": "stream",
     "text": [
      "[[2, 23, 709], [2, 2, 1], '2^2 x 23^2 x 709^1']\n"
     ]
    }
   ],
   "source": [
    "print(factoriza(1500244))"
   ]
  }
 ],
 "metadata": {
  "interpreter": {
   "hash": "2be5faf79681da6f2a61fdfdd5405d65d042280f7fba6178067603e3a2925119"
  },
  "kernelspec": {
   "display_name": "Python 3.10.2 64-bit",
   "language": "python",
   "name": "python3"
  },
  "language_info": {
   "codemirror_mode": {
    "name": "ipython",
    "version": 3
   },
   "file_extension": ".py",
   "mimetype": "text/x-python",
   "name": "python",
   "nbconvert_exporter": "python",
   "pygments_lexer": "ipython3",
   "version": "3.10.2"
  },
  "orig_nbformat": 4
 },
 "nbformat": 4,
 "nbformat_minor": 2
}
