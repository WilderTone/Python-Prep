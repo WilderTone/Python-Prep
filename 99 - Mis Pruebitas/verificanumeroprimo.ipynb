{
 "cells": [
  {
   "cell_type": "code",
   "execution_count": 3,
   "metadata": {},
   "outputs": [],
   "source": [
    "\n",
    "import math\n",
    "\n",
    "def verifica_primo2 (numero):\n",
    "    #https://programmerclick.com/article/8571782959/\n",
    "\n",
    "    #Esta Funcion devuelve Verdadero y Falso si el numero evaluado es primo\n",
    "    if numero<=1: \n",
    "        return False\n",
    "    else:\n",
    "        if (numero % 2 ==0) : # Evaluamos si es par para descartar que es Primo\n",
    "            print(\"Numero descartado es par\")\n",
    "            return False\n",
    "            \n",
    "        else:\n",
    "            mitop=int((math.sqrt(numero))) # Asignamos como top de rango la raiz cuadrada del valor evaluado\n",
    "            prime = []\n",
    "            lista_div=[]\n",
    "\n",
    "            for i in range(mitop+1):  # para metodos range rango inicial incluyente rango final excluyente por eso el +1\n",
    "                prime.append(True)\n",
    "\n",
    "            for i in range(2,mitop+1): # para metodos range  rango inicial incluyente rango final excluyente por eso el +1\n",
    "                if prime[i]:\n",
    "                    lista_div.append(i)\n",
    "                    j = i+i\n",
    "                    while j<= mitop:\n",
    "                        prime[j] = False\n",
    "                        j += i\n",
    "            \n",
    "            #La lista de divisores a trabajar sera los numeros primos menores o iguales al top de rango\n",
    "\n",
    "            print(lista_div)\n",
    "            primo=True\n",
    "            for div in lista_div: \n",
    "                if  (numero % div==0):\n",
    "                    primo=False\n",
    "                    break\n",
    "    return mitop,i,primo\n",
    "\n"
   ]
  },
  {
   "cell_type": "code",
   "execution_count": 2,
   "metadata": {},
   "outputs": [
    {
     "name": "stdout",
     "output_type": "stream",
     "text": [
      "[2, 3, 5, 7, 11, 13, 17, 19, 23, 29, 31, 37, 41, 43, 47, 53, 59, 61, 67, 71, 73, 79, 83, 89, 97]\n",
      "(100, 100, False)\n"
     ]
    }
   ],
   "source": [
    "print(verifica_primo2(10001))\n"
   ]
  }
 ],
 "metadata": {
  "interpreter": {
   "hash": "7026e5986cb8693f28ea8c661b515da0f0f0e67aedf01a058bf2f0793cb28804"
  },
  "kernelspec": {
   "display_name": "Python 3.9.7 ('base')",
   "language": "python",
   "name": "python3"
  },
  "language_info": {
   "codemirror_mode": {
    "name": "ipython",
    "version": 3
   },
   "file_extension": ".py",
   "mimetype": "text/x-python",
   "name": "python",
   "nbconvert_exporter": "python",
   "pygments_lexer": "ipython3",
   "version": "3.9.7"
  },
  "orig_nbformat": 4
 },
 "nbformat": 4,
 "nbformat_minor": 2
}
