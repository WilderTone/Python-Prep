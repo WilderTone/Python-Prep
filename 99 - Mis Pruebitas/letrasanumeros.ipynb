{
 "cells": [
  {
   "cell_type": "code",
   "execution_count": 5,
   "metadata": {},
   "outputs": [
    {
     "name": "stdout",
     "output_type": "stream",
     "text": [
      "VENTITRES MILLONES DOSCIENTOS VENTIUN MIL QUINIENTOS OCHENTA Y SIETE  NUEVOS SOLES 78/100 S.E.U.O\n"
     ]
    }
   ],
   "source": [
    "UNIDADES = ('','UN ','DOS ','TRES ','CUATRO ','CINCO ','SEIS ','SIETE ','OCHO ','NUEVE ','DIEZ ','ONCE ','DOCE ','TRECE ',\n",
    "            'CATORCE ','QUINCE ','DIECISEIS ','DIECISIETE ','DIECIOCHO ','DIECINUEVE ','VEINTE ')                \n",
    "\n",
    "DECENAS = ('VENTI','TREINTA ','CUARENTA ','CINCUENTA ','SESENTA ','SETENTA ','OCHENTA ','NOVENTA ','CIEN ')   \n",
    "\n",
    "CENTENAS = ('CIENTO ','DOSCIENTOS ','TRESCIENTOS ','CUATROCIENTOS ','QUINIENTOS ','SEISCIENTOS ','SETECIENTOS ','OCHOCIENTOS ','NOVECIENTOS ')                   \n",
    "                    \n",
    "def Numero_a_Texto(number_in):\n",
    "                             \n",
    "    converted = ''                             \n",
    "\n",
    "    if type(number_in) != 'str':\n",
    "      number = str(number_in)  \n",
    "    else:                      \n",
    "      number = number_in       \n",
    "                                                          \n",
    "    number_str=number                                     \n",
    "                                                          \n",
    "    try:                                                  \n",
    "      number_int, number_dec = number_str.split(\".\")      \n",
    "    except ValueError:                                    \n",
    "      number_int = number_str                             \n",
    "      number_dec = \"\"                                     \n",
    "\n",
    "    number_str = number_int.zfill(9)\n",
    "    millones = number_str[:3]      \n",
    "    miles = number_str[3:6]        \n",
    "    cientos = number_str[6:]       \n",
    "\n",
    "    if(millones):\n",
    "        if(millones == '001'):\n",
    "            converted += 'UN MILLON '\n",
    "        elif(int(millones) > 0):    \n",
    "            converted += '%sMILLONES ' % __convertNumber(millones)\n",
    "                                                                 \n",
    "    if(miles):                                                   \n",
    "        if(miles == '001'):                                      \n",
    "            converted += 'MIL '                                  \n",
    "        elif(int(miles) > 0):                                    \n",
    "            converted += '%sMIL ' % __convertNumber(miles)       \n",
    "    if(cientos):                                                 \n",
    "        if(cientos == '001'):                                    \n",
    "            converted += 'UN '                                   \n",
    "        elif(int(cientos) > 0):                                  \n",
    "            converted += '%s ' % __convertNumber(cientos)        \n",
    "\n",
    "    if number_dec == \"\":\n",
    "      number_dec = \"00\"\n",
    "    if (len(number_dec) < 2 ):\n",
    "      number_dec+='0'        \n",
    "\n",
    "    converted += 'NUEVOS SOLES '+ number_dec + \"/100 S.E.U.O\"\n",
    "\n",
    "    return converted\n",
    "                   \n",
    "def __convertNumber(n):\n",
    "    output = ''\n",
    "\n",
    "    if(n == '100'):\n",
    "        output = \"CIEN \"\n",
    "    elif(n[0] != '0'):\n",
    "        output = CENTENAS[int(n[0])-1]\n",
    "\n",
    "    k = int(n[1:])\n",
    "    if(k <= 20):\n",
    "        output += UNIDADES[k]\n",
    "    else:\n",
    "        if((k > 30) & (n[2] != '0')):\n",
    "            output += '%sY %s' % (DECENAS[int(n[1])-2], UNIDADES[int(n[2])])\n",
    "        else:\n",
    "            output += '%s%s' % (DECENAS[int(n[1])-2], UNIDADES[int(n[2])])\n",
    "\n",
    "    return output\n",
    "\n",
    "\n",
    "\n",
    "print (Numero_a_Texto(23221587.78))\n"
   ]
  }
 ],
 "metadata": {
  "interpreter": {
   "hash": "9f3a37fb331e8231db730168c5fd6bb4231e26004f22ecdd19d0f1c9b7137bf0"
  },
  "kernelspec": {
   "display_name": "Python 3.10.2 64-bit",
   "language": "python",
   "name": "python3"
  },
  "language_info": {
   "codemirror_mode": {
    "name": "ipython",
    "version": 3
   },
   "file_extension": ".py",
   "mimetype": "text/x-python",
   "name": "python",
   "nbconvert_exporter": "python",
   "pygments_lexer": "ipython3",
   "version": "3.10.2"
  },
  "orig_nbformat": 4
 },
 "nbformat": 4,
 "nbformat_minor": 2
}
