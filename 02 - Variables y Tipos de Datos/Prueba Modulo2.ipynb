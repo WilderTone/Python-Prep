{
 "cells": [
  {
   "cell_type": "code",
   "execution_count": 35,
   "metadata": {},
   "outputs": [
    {
     "name": "stdout",
     "output_type": "stream",
     "text": [
      "La Suma var1 mas var2 es 13.0\n",
      "El Mundo es ancho y ajeno\n",
      "1.0\n",
      "El Mundo es ancho y ajeno y la suma es 13.0\n",
      "True\n",
      "False\n",
      "15.5\n",
      "2022-02-08\n",
      "2022-03-10\n",
      "<class 'datetime.date'>\n"
     ]
    },
    {
     "data": {
      "text/plain": [
       "datetime.date"
      ]
     },
     "execution_count": 35,
     "metadata": {},
     "output_type": "execute_result"
    }
   ],
   "source": [
    "import datetime\n",
    "\n",
    "mihoy=datetime.date.today()\n",
    "mirango=30\n",
    "mitomorrow= mihoy+datetime.timedelta(days=mirango)\n",
    "\n",
    "mivar1= 12.50\n",
    "mivar2= 0.50\n",
    "mivar3= \"El Mundo es\"\n",
    "mivar4= \" ancho y ajeno\"\n",
    "mivar5= True\n",
    "mivar6= False\n",
    "mivar7= '15.50'\n",
    "print (\"La Suma var1 mas var2 es \"+str(mivar1+mivar2))\n",
    "print (mivar3+mivar4)\n",
    "print (mivar2*2)\n",
    "print (mivar3+mivar4+\" y la suma es \"+str(mivar1+mivar2))\n",
    "print (mivar5 or mivar6)\n",
    "print (mivar5 and mivar6)\n",
    "print (float(mivar7)/1)\n",
    "type(mivar7)\n",
    "print(mihoy)\n",
    "print(mitomorrow)\n",
    "print(type(mihoy))\n",
    "type(mitomorrow)"
   ]
  }
 ],
 "metadata": {
  "interpreter": {
   "hash": "9f3a37fb331e8231db730168c5fd6bb4231e26004f22ecdd19d0f1c9b7137bf0"
  },
  "kernelspec": {
   "display_name": "Python 3.10.2 64-bit",
   "language": "python",
   "name": "python3"
  },
  "language_info": {
   "codemirror_mode": {
    "name": "ipython",
    "version": 3
   },
   "file_extension": ".py",
   "mimetype": "text/x-python",
   "name": "python",
   "nbconvert_exporter": "python",
   "pygments_lexer": "ipython3",
   "version": "3.10.2"
  },
  "orig_nbformat": 4
 },
 "nbformat": 4,
 "nbformat_minor": 2
}
