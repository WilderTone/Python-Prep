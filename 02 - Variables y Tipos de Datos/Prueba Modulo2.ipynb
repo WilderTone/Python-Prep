{
 "cells": [
  {
   "cell_type": "code",
   "execution_count": 36,
   "metadata": {},
   "outputs": [
    {
     "name": "stdout",
     "output_type": "stream",
     "text": [
      "La Suma var1 mas var2 es 13.0\n",
      "El Mundo es ancho y ajeno\n",
      "1.0\n",
      "El Mundo es ancho y ajeno y la suma es 13.0\n",
      "True\n",
      "False\n",
      "15.5\n",
      "2022-02-08\n",
      "2022-03-10\n",
      "<class 'datetime.date'>\n"
     ]
    },
    {
     "data": {
      "text/plain": [
       "datetime.date"
      ]
     },
     "execution_count": 36,
     "metadata": {},
     "output_type": "execute_result"
    }
   ],
   "source": [
    "import datetime\n",
    "\n",
    "mihoy=datetime.date.today()\n",
    "mirango=30\n",
    "miproximo= mihoy+datetime.timedelta(days=mirango)\n",
    "\n",
    "mivar1= 12.50\n",
    "mivar2= 0.50\n",
    "mivar3= \"El Mundo es\"\n",
    "mivar4= \" ancho y ajeno\"\n",
    "mivar5= True\n",
    "mivar6= False\n",
    "mivar7= '15.50'\n",
    "print (\"La Suma var1 mas var2 es \"+str(mivar1+mivar2))\n",
    "print (mivar3+mivar4)\n",
    "print (mivar2*2)\n",
    "print (mivar3+mivar4+\" y la suma es \"+str(mivar1+mivar2))\n",
    "print (mivar5 or mivar6)\n",
    "print (mivar5 and mivar6)\n",
    "print (float(mivar7)/1)\n",
    "type(mivar7)\n",
    "print(mihoy)\n",
    "print(miproximo)\n",
    "print(type(mihoy))\n",
    "type(miproximo)"
   ]
  },
  {
   "cell_type": "code",
   "execution_count": 44,
   "metadata": {},
   "outputs": [
    {
     "name": "stdout",
     "output_type": "stream",
     "text": [
      "24\n",
      "144\n",
      "6.0\n",
      "6\n",
      "0\n",
      "False\n"
     ]
    }
   ],
   "source": [
    "xvar1=12\n",
    "xvar2=2\n",
    "print (xvar1*xvar2) #cMultiplicacion\n",
    "print (xvar1**xvar2) # Potenciacion\n",
    "print (xvar1/xvar2) #Division\n",
    "print (xvar1//xvar2) #Division entera\n",
    "print (xvar1%xvar2) # Modulo\n"
   ]
  },
  {
   "cell_type": "code",
   "execution_count": 85,
   "metadata": {},
   "outputs": [
    {
     "name": "stdout",
     "output_type": "stream",
     "text": [
      " 1 - 1 -- O True -- Y True -- NOT o False\n",
      " 1 - 0 -- O True -- Y False -- NOT o False\n",
      " 0 - 1 -- O True -- Y False -- NOT o False\n",
      " 0 - 0 -- O False -- Y False -- NOT o True\n"
     ]
    }
   ],
   "source": [
    "lista1 = [1,1,0,0]\n",
    "lista2 = [1,0,1,0]\n",
    "cuenta=0\n",
    "for n in lista1:\n",
    "    m=lista2[cuenta]\n",
    "    zb=bool(n or m)\n",
    "    xb=bool(n and m)\n",
    "    yb=not bool(n or m )\n",
    "    print(f\" {n} - {m} -- O {zb} -- Y {xb} -- NOT o {yb}\")\n",
    "    cuenta=cuenta+1\n",
    "\n",
    " \n"
   ]
  }
 ],
 "metadata": {
  "interpreter": {
   "hash": "9f3a37fb331e8231db730168c5fd6bb4231e26004f22ecdd19d0f1c9b7137bf0"
  },
  "kernelspec": {
   "display_name": "Python 3.10.2 64-bit",
   "language": "python",
   "name": "python3"
  },
  "language_info": {
   "codemirror_mode": {
    "name": "ipython",
    "version": 3
   },
   "file_extension": ".py",
   "mimetype": "text/x-python",
   "name": "python",
   "nbconvert_exporter": "python",
   "pygments_lexer": "ipython3",
   "version": "3.10.2"
  },
  "orig_nbformat": 4
 },
 "nbformat": 4,
 "nbformat_minor": 2
}
