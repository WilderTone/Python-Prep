{
 "cells": [
  {
   "cell_type": "code",
   "execution_count": null,
   "metadata": {},
   "outputs": [],
   "source": [
    "import datetime\n",
    "\n",
    "mihoy=datetime.date.today()\n",
    "mirango=30\n",
    "miproximo= mihoy+datetime.timedelta(days=mirango)\n",
    "\n",
    "mivar1= 12.50\n",
    "mivar2= 0.50\n",
    "mivar3= \"El Mundo es\"\n",
    "mivar4= \" ancho y ajeno\"\n",
    "mivar5= True\n",
    "mivar6= False\n",
    "mivar7= '15.50'\n",
    "print (\"La Suma var1 mas var2 es \"+str(mivar1+mivar2))\n",
    "print (mivar3+mivar4)\n",
    "print (mivar2*2)\n",
    "print (mivar3+mivar4+\" y la suma es \"+str(mivar1+mivar2))\n",
    "print (mivar5 or mivar6)\n",
    "print (mivar5 and mivar6)\n",
    "print (float(mivar7)/1)\n",
    "type(mivar7)\n",
    "print(mihoy)\n",
    "print(miproximo)\n",
    "print(type(mihoy))\n",
    "type(miproximo)"
   ]
  },
  {
   "cell_type": "code",
   "execution_count": null,
   "metadata": {},
   "outputs": [],
   "source": [
    "xvar1=12\n",
    "xvar2=2\n",
    "print (xvar1*xvar2) #cMultiplicacion\n",
    "print (xvar1**xvar2) # Potenciacion\n",
    "print (xvar1/xvar2) #Division\n",
    "print (xvar1//xvar2) #Division entera\n",
    "print (xvar1%xvar2) # Modulo\n"
   ]
  },
  {
   "cell_type": "code",
   "execution_count": 2,
   "metadata": {},
   "outputs": [
    {
     "name": "stdout",
     "output_type": "stream",
     "text": [
      "Val 1\t\tVal 2\t\tOR\t\tAND\t\tNOR\n",
      "-----\t\t-----\t\t--\t\t---\t\t---\n",
      "True\t\tTrue\t\tTrue\t\tTrue\t\tOFF\n",
      "True\t\tFalse\t\tTrue\t\tFalse\t\tOFF\n",
      "False\t\tTrue\t\tTrue\t\tFalse\t\tOFF\n",
      "False\t\tFalse\t\tFalse\t\tFalse\t\tOFF\n"
     ]
    }
   ],
   "source": [
    "lista1 = [1,1,0,0]\n",
    "lista2 = [1,0,1,0]\n",
    "lstctrl = [1,1,1,1,0]\n",
    "lst = ['Val 1', 'Val 2', 'OR', 'AND', 'NOR']\n",
    "lstsub= []\n",
    "\n",
    "\n",
    "for nn in lst:  # recorre la lista lst nn almacena el valor de la lista\n",
    "    micadena=\"\"\n",
    "    for mm in range(0,len(nn)):\n",
    "        micadena+=\"-\"\n",
    "    lstsub.append(micadena)\n",
    "\n",
    "\n",
    "print('\\t\\t'.join(map(str, lst))) # usa el metodo join para concatenar añadiendo Tabulaciones*2 a traves del iterador map aplicado a lst\n",
    "print('\\t\\t'.join(map(str, lstsub)))\n",
    "\n",
    "\n",
    "for k in range(0,len(lista1)): # recorre desde la posicion 0 inicial hasta la ultima posicion K almacena el indice de la lista\n",
    "    n=bool(lista1[k])\n",
    "    m=bool(lista2[k])\n",
    "    \n",
    "    if bool(lstctrl[2])==True:\n",
    "        zb=bool(n or m)\n",
    "    else:\n",
    "        zb=\"OFF\"    \n",
    "\n",
    "    if bool(lstctrl[3])==True:\n",
    "        xb=bool(n and m)\n",
    "    else:\n",
    "        xb=\"OFF\"\n",
    "\n",
    "    if bool(lstctrl[4])==True:\n",
    "        yb=not bool(n or m )\n",
    "    else:\n",
    "        yb=\"OFF\"\n",
    "        \n",
    "\n",
    "    # print(f\" {n} - {m} -- O {zb} -- Y {xb} -- NOR {yb}\") #f-strings incrusta expresiones dentro de cadenas\n",
    "\n",
    "    lst2=[str(n),str(m),str(zb),str(xb),str(yb)]\n",
    "    print('\\t\\t'.join(map(str, lst2)))\n",
    "\n",
    " "
   ]
  }
 ],
 "metadata": {
  "interpreter": {
   "hash": "9f3a37fb331e8231db730168c5fd6bb4231e26004f22ecdd19d0f1c9b7137bf0"
  },
  "kernelspec": {
   "display_name": "Python 3.10.2 64-bit",
   "language": "python",
   "name": "python3"
  },
  "language_info": {
   "codemirror_mode": {
    "name": "ipython",
    "version": 3
   },
   "file_extension": ".py",
   "mimetype": "text/x-python",
   "name": "python",
   "nbconvert_exporter": "python",
   "pygments_lexer": "ipython3",
   "version": "3.9.7"
  },
  "orig_nbformat": 4
 },
 "nbformat": 4,
 "nbformat_minor": 2
}
